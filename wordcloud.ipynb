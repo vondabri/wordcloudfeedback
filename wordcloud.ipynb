{
 "cells": [
  {
   "cell_type": "code",
   "execution_count": null,
   "metadata": {
    "collapsed": true
   },
   "outputs": [],
   "source": [
    "# Menghitung frequensi per kata\n",
    "text = readLines(\"allfeedbackcontent.txt\")\n",
    "text = unlist(strsplit(text, \"\\\\W+\"))\n",
    "text = tolower(text)\n",
    "text = data.frame(table(text))\n",
    "\n",
    "# Menghapus stop-words\n",
    "stopw = readLines(\"stopwords-id.txt\")\n",
    "text = text[!is.element(text$text, stopw),]\n",
    "\n",
    "# Generate word-cloud\n",
    "wordcloud(text$text, text$Freq, random.order=FALSE, rot.per=0.25, colors=brewer.pal(8, \"Dark2\"))\n"
   ]
  }
 ],
 "metadata": {
  "kernelspec": {
   "display_name": "R",
   "language": "R",
   "name": "ir"
  },
  "language_info": {
   "codemirror_mode": "r",
   "file_extension": ".r",
   "mimetype": "text/x-r-source",
   "name": "R",
   "pygments_lexer": "r",
   "version": "3.3.3"
  }
 },
 "nbformat": 4,
 "nbformat_minor": 2
}
